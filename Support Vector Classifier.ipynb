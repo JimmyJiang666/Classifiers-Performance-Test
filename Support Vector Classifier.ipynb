{
 "cells": [
  {
   "cell_type": "code",
   "execution_count": null,
   "metadata": {},
   "outputs": [],
   "source": [
    "%matplotlib inline\n",
    "import numpy as np\n",
    "import matplotlib.pyplot as plt\n",
    "import seaborn as sns; sns.set()"
   ]
  },
  {
   "cell_type": "code",
   "execution_count": null,
   "metadata": {},
   "outputs": [],
   "source": [
    "# Create data set\n",
    "from sklearn.datasets import make_blobs\n",
    "X, Y = make_blobs(n_samples=50, centers = 2, cluster_std = 1.5)\n",
    "plt.scatter(X[:,0], X[:,1], c=Y, s=50, cmap='autumn')"
   ]
  },
  {
   "cell_type": "code",
   "execution_count": null,
   "metadata": {},
   "outputs": [],
   "source": [
    "from sklearn.svm import SVC\n",
    "svc = SVC(kernel = 'linear', C = 1E3) # very large C => Hard Margin\n",
    "svc.fit(X,Y)"
   ]
  },
  {
   "cell_type": "code",
   "execution_count": null,
   "metadata": {},
   "outputs": [],
   "source": [
    "def draw_margin(svc, draw_support=True):\n",
    "    ax = plt.gca() \n",
    "    xlim = ax.get_xlim()\n",
    "    ylim = ax.get_ylim()\n",
    "    \n",
    "    x = np.linspace(xlim[0], xlim[1], 50)\n",
    "    y = np.linspace(ylim[0], ylim[1], 50)\n",
    "    Y, X = np.meshgrid(y,x)\n",
    "    xy = np.vstack([X.ravel(), Y.ravel()]).T\n",
    "    P = svc.decision_function(xy).reshape(X.shape)\n",
    "    \n",
    "    # draw margin \n",
    "    ax.contour(X, Y, P, colors='k', levels = [-1,0,1], alpha=0.5, linestyles=[':','--',':'])\n",
    "    if draw_support:\n",
    "        ax.scatter(svc.support_vectors_[:,0], svc.support_vectors_[:,1], s=300, linewidth=1, facecolors='none', edgecolors='g')\n",
    "    \n",
    "    ax.set_xlim(xlim)\n",
    "    ax.set_ylim(ylim)"
   ]
  },
  {
   "cell_type": "code",
   "execution_count": null,
   "metadata": {},
   "outputs": [],
   "source": [
    "plt.scatter(X[:,0], X[:,1], c=Y, s=50, cmap='autumn')\n",
    "draw_margin(svc)"
   ]
  },
  {
   "cell_type": "code",
   "execution_count": null,
   "metadata": {},
   "outputs": [],
   "source": [
    "# Non Linear Boundary\n",
    "from sklearn.datasets import make_circles\n",
    "X1, Y1 = make_circles(100, factor=0.1, noise = 0.1)\n",
    "plt.scatter(X1[:,0], X1[:,1], c=Y1, s=50, cmap='viridis')"
   ]
  },
  {
   "cell_type": "code",
   "execution_count": null,
   "metadata": {},
   "outputs": [],
   "source": [
    "svc1 = SVC(kernel = 'linear').fit(X1, Y1)\n",
    "\n",
    "plt.scatter(X1[:,0], X1[:,1], c=Y1, s=50, cmap='viridis')\n",
    "draw_margin(svc1, draw_support=False)"
   ]
  },
  {
   "cell_type": "code",
   "execution_count": null,
   "metadata": {},
   "outputs": [],
   "source": [
    "svc1poly = SVC(kernel = 'poly', degree=2, C=1E6).fit(X1, Y1)\n",
    "plt.scatter(X1[:,0], X1[:,1], c=Y1, s=50, cmap='viridis')\n",
    "draw_margin(svc1poly)"
   ]
  },
  {
   "cell_type": "code",
   "execution_count": null,
   "metadata": {},
   "outputs": [],
   "source": [
    "svc1rbf = SVC(kernel = 'rbf', C=1E6).fit(X1, Y1)\n",
    "plt.scatter(X1[:,0], X1[:,1], c=Y1, s=50, cmap='viridis')\n",
    "draw_margin(svc1rbf)"
   ]
  }
 ],
 "metadata": {
  "kernelspec": {
   "display_name": "Python 3",
   "language": "python",
   "name": "python3"
  },
  "language_info": {
   "codemirror_mode": {
    "name": "ipython",
    "version": 3
   },
   "file_extension": ".py",
   "mimetype": "text/x-python",
   "name": "python",
   "nbconvert_exporter": "python",
   "pygments_lexer": "ipython3",
   "version": "3.7.7"
  }
 },
 "nbformat": 4,
 "nbformat_minor": 2
}
